{
 "cells": [
  {
   "cell_type": "markdown",
   "id": "459bc46d",
   "metadata": {},
   "source": [
    "# User Behaviour Analysis"
   ]
  },
  {
   "cell_type": "markdown",
   "id": "c261c04b",
   "metadata": {},
   "source": [
    "### Importing Required Libraries"
   ]
  },
  {
   "cell_type": "code",
   "execution_count": 143,
   "id": "fdc53f98",
   "metadata": {},
   "outputs": [],
   "source": [
    "import numpy as np\n",
    "import pandas as pd\n",
    "import matplotlib.pyplot as plt\n",
    "import seaborn as sns\n",
    "\n",
    "pd.set_option('display.max_colwidth', None) # display more texts in column\n",
    "pd.set_option('display.max_rows', 500)\n",
    "\n",
    "from numpy import dot\n",
    "from numpy.linalg import norm\n",
    "from sklearn.decomposition import PCA\n",
    "from sklearn.manifold import TSNE\n",
    "from gensim.models import Word2Vec"
   ]
  },
  {
   "cell_type": "markdown",
   "id": "0c05a088",
   "metadata": {},
   "source": [
    "### Reading Data"
   ]
  },
  {
   "cell_type": "code",
   "execution_count": 144,
   "id": "ba64f223",
   "metadata": {},
   "outputs": [],
   "source": [
    "df=pd.read_json('./dataset.json',lines=True)"
   ]
  },
  {
   "cell_type": "markdown",
   "id": "5ab11f02",
   "metadata": {},
   "source": [
    "### Getting overview of data"
   ]
  },
  {
   "cell_type": "code",
   "execution_count": 146,
   "id": "180a2817",
   "metadata": {},
   "outputs": [],
   "source": [
    "df=pd.read_json('./dataset.json',lines=True)"
   ]
  },
  {
   "cell_type": "code",
   "execution_count": 147,
   "id": "fa040fbe",
   "metadata": {},
   "outputs": [
    {
     "name": "stdout",
     "output_type": "stream",
     "text": [
      "<class 'pandas.core.frame.DataFrame'>\n",
      "RangeIndex: 78319 entries, 0 to 78318\n",
      "Data columns (total 4 columns):\n",
      " #   Column     Non-Null Count  Dtype         \n",
      "---  ------     --------------  -----         \n",
      " 0   action     78319 non-null  object        \n",
      " 1   timestamp  78319 non-null  datetime64[ns]\n",
      " 2   step       78319 non-null  int64         \n",
      " 3   user       78319 non-null  int64         \n",
      "dtypes: datetime64[ns](1), int64(2), object(1)\n",
      "memory usage: 2.4+ MB\n"
     ]
    }
   ],
   "source": [
    "df.info()"
   ]
  },
  {
   "cell_type": "code",
   "execution_count": 148,
   "id": "43235454",
   "metadata": {
    "scrolled": false
   },
   "outputs": [
    {
     "name": "stdout",
     "output_type": "stream",
     "text": [
      "Shape of dataframe: (78319, 4)\n"
     ]
    }
   ],
   "source": [
    "print ('Shape of dataframe:', df.shape)"
   ]
  },
  {
   "cell_type": "code",
   "execution_count": 149,
   "id": "1148cda3",
   "metadata": {},
   "outputs": [
    {
     "data": {
      "text/html": [
       "<div>\n",
       "<style scoped>\n",
       "    .dataframe tbody tr th:only-of-type {\n",
       "        vertical-align: middle;\n",
       "    }\n",
       "\n",
       "    .dataframe tbody tr th {\n",
       "        vertical-align: top;\n",
       "    }\n",
       "\n",
       "    .dataframe thead th {\n",
       "        text-align: right;\n",
       "    }\n",
       "</style>\n",
       "<table border=\"1\" class=\"dataframe\">\n",
       "  <thead>\n",
       "    <tr style=\"text-align: right;\">\n",
       "      <th></th>\n",
       "      <th>action</th>\n",
       "      <th>timestamp</th>\n",
       "      <th>step</th>\n",
       "      <th>user</th>\n",
       "    </tr>\n",
       "  </thead>\n",
       "  <tbody>\n",
       "    <tr>\n",
       "      <th>0</th>\n",
       "      <td>copy_exp_code</td>\n",
       "      <td>2019-06-18 00:55:56.961999872</td>\n",
       "      <td>1</td>\n",
       "      <td>1</td>\n",
       "    </tr>\n",
       "    <tr>\n",
       "      <th>1</th>\n",
       "      <td>copy_exp_code</td>\n",
       "      <td>2019-06-18 00:56:58.655000064</td>\n",
       "      <td>1</td>\n",
       "      <td>1</td>\n",
       "    </tr>\n",
       "    <tr>\n",
       "      <th>2</th>\n",
       "      <td>copy_exp_code</td>\n",
       "      <td>2019-06-18 00:57:19.124999936</td>\n",
       "      <td>1</td>\n",
       "      <td>1</td>\n",
       "    </tr>\n",
       "    <tr>\n",
       "      <th>3</th>\n",
       "      <td>copy_exp_code</td>\n",
       "      <td>2019-06-18 00:57:40.276999936</td>\n",
       "      <td>1</td>\n",
       "      <td>1</td>\n",
       "    </tr>\n",
       "    <tr>\n",
       "      <th>4</th>\n",
       "      <td>copy_exp_code</td>\n",
       "      <td>2019-06-18 00:58:24.291000064</td>\n",
       "      <td>1</td>\n",
       "      <td>1</td>\n",
       "    </tr>\n",
       "    <tr>\n",
       "      <th>5</th>\n",
       "      <td>copy_exp_code</td>\n",
       "      <td>2019-06-18 00:58:56.136999936</td>\n",
       "      <td>1</td>\n",
       "      <td>1</td>\n",
       "    </tr>\n",
       "    <tr>\n",
       "      <th>6</th>\n",
       "      <td>copy_exp_code</td>\n",
       "      <td>2019-06-18 00:59:44.412999936</td>\n",
       "      <td>1</td>\n",
       "      <td>1</td>\n",
       "    </tr>\n",
       "    <tr>\n",
       "      <th>7</th>\n",
       "      <td>copy_exp_code</td>\n",
       "      <td>2019-06-18 01:00:27.908999936</td>\n",
       "      <td>1</td>\n",
       "      <td>1</td>\n",
       "    </tr>\n",
       "    <tr>\n",
       "      <th>8</th>\n",
       "      <td>copy_exp_code</td>\n",
       "      <td>2019-06-18 01:01:00.347000064</td>\n",
       "      <td>1</td>\n",
       "      <td>1</td>\n",
       "    </tr>\n",
       "    <tr>\n",
       "      <th>9</th>\n",
       "      <td>copy_exp_code</td>\n",
       "      <td>2019-06-18 01:01:55.430000128</td>\n",
       "      <td>1</td>\n",
       "      <td>1</td>\n",
       "    </tr>\n",
       "    <tr>\n",
       "      <th>10</th>\n",
       "      <td>copy_exp_code</td>\n",
       "      <td>2019-06-18 01:03:47.552999936</td>\n",
       "      <td>1</td>\n",
       "      <td>1</td>\n",
       "    </tr>\n",
       "    <tr>\n",
       "      <th>11</th>\n",
       "      <td>copy_exp_code</td>\n",
       "      <td>2019-06-18 01:04:01.616999936</td>\n",
       "      <td>1</td>\n",
       "      <td>1</td>\n",
       "    </tr>\n",
       "    <tr>\n",
       "      <th>12</th>\n",
       "      <td>copy_exp_code</td>\n",
       "      <td>2019-06-18 01:05:32.207000064</td>\n",
       "      <td>1</td>\n",
       "      <td>1</td>\n",
       "    </tr>\n",
       "    <tr>\n",
       "      <th>13</th>\n",
       "      <td>copy_exp_code</td>\n",
       "      <td>2019-06-18 01:06:27.319000064</td>\n",
       "      <td>1</td>\n",
       "      <td>1</td>\n",
       "    </tr>\n",
       "    <tr>\n",
       "      <th>14</th>\n",
       "      <td>copy_exp_code</td>\n",
       "      <td>2019-06-18 01:06:39.624000000</td>\n",
       "      <td>1</td>\n",
       "      <td>1</td>\n",
       "    </tr>\n",
       "    <tr>\n",
       "      <th>15</th>\n",
       "      <td>copy_exp_code</td>\n",
       "      <td>2019-06-18 01:07:08.192999936</td>\n",
       "      <td>1</td>\n",
       "      <td>1</td>\n",
       "    </tr>\n",
       "    <tr>\n",
       "      <th>16</th>\n",
       "      <td>copy_exp_code</td>\n",
       "      <td>2019-06-18 01:07:23.144999936</td>\n",
       "      <td>1</td>\n",
       "      <td>1</td>\n",
       "    </tr>\n",
       "    <tr>\n",
       "      <th>17</th>\n",
       "      <td>copy_exp_code</td>\n",
       "      <td>2019-06-18 01:07:56.291000064</td>\n",
       "      <td>1</td>\n",
       "      <td>1</td>\n",
       "    </tr>\n",
       "    <tr>\n",
       "      <th>18</th>\n",
       "      <td>copy_exp_code</td>\n",
       "      <td>2019-06-18 01:08:01.867000064</td>\n",
       "      <td>1</td>\n",
       "      <td>1</td>\n",
       "    </tr>\n",
       "    <tr>\n",
       "      <th>19</th>\n",
       "      <td>copy_exp_code</td>\n",
       "      <td>2019-06-18 01:08:06.483000064</td>\n",
       "      <td>1</td>\n",
       "      <td>1</td>\n",
       "    </tr>\n",
       "  </tbody>\n",
       "</table>\n",
       "</div>"
      ],
      "text/plain": [
       "           action                     timestamp  step  user\n",
       "0   copy_exp_code 2019-06-18 00:55:56.961999872     1     1\n",
       "1   copy_exp_code 2019-06-18 00:56:58.655000064     1     1\n",
       "2   copy_exp_code 2019-06-18 00:57:19.124999936     1     1\n",
       "3   copy_exp_code 2019-06-18 00:57:40.276999936     1     1\n",
       "4   copy_exp_code 2019-06-18 00:58:24.291000064     1     1\n",
       "5   copy_exp_code 2019-06-18 00:58:56.136999936     1     1\n",
       "6   copy_exp_code 2019-06-18 00:59:44.412999936     1     1\n",
       "7   copy_exp_code 2019-06-18 01:00:27.908999936     1     1\n",
       "8   copy_exp_code 2019-06-18 01:01:00.347000064     1     1\n",
       "9   copy_exp_code 2019-06-18 01:01:55.430000128     1     1\n",
       "10  copy_exp_code 2019-06-18 01:03:47.552999936     1     1\n",
       "11  copy_exp_code 2019-06-18 01:04:01.616999936     1     1\n",
       "12  copy_exp_code 2019-06-18 01:05:32.207000064     1     1\n",
       "13  copy_exp_code 2019-06-18 01:06:27.319000064     1     1\n",
       "14  copy_exp_code 2019-06-18 01:06:39.624000000     1     1\n",
       "15  copy_exp_code 2019-06-18 01:07:08.192999936     1     1\n",
       "16  copy_exp_code 2019-06-18 01:07:23.144999936     1     1\n",
       "17  copy_exp_code 2019-06-18 01:07:56.291000064     1     1\n",
       "18  copy_exp_code 2019-06-18 01:08:01.867000064     1     1\n",
       "19  copy_exp_code 2019-06-18 01:08:06.483000064     1     1"
      ]
     },
     "execution_count": 149,
     "metadata": {},
     "output_type": "execute_result"
    }
   ],
   "source": [
    "df.head(20)"
   ]
  },
  {
   "cell_type": "code",
   "execution_count": 28,
   "id": "eea6bd03",
   "metadata": {},
   "outputs": [
    {
     "data": {
      "text/plain": [
       "action       0\n",
       "timestamp    0\n",
       "step         0\n",
       "user         0\n",
       "dtype: int64"
      ]
     },
     "execution_count": 28,
     "metadata": {},
     "output_type": "execute_result"
    }
   ],
   "source": [
    "df.isnull().sum()"
   ]
  },
  {
   "cell_type": "code",
   "execution_count": 29,
   "id": "f8d1b607",
   "metadata": {},
   "outputs": [
    {
     "data": {
      "text/plain": [
       "0"
      ]
     },
     "execution_count": 29,
     "metadata": {},
     "output_type": "execute_result"
    }
   ],
   "source": [
    "df.duplicated().sum()"
   ]
  },
  {
   "cell_type": "code",
   "execution_count": 30,
   "id": "eaf7e327",
   "metadata": {
    "scrolled": true
   },
   "outputs": [
    {
     "data": {
      "text/plain": [
       "leave_middle_aoi             13274\n",
       "leave_right_aoi              11539\n",
       "scrollbar_M_forward          10179\n",
       "ipynb_layout_(write_code)     9402\n",
       "scrollbar_M_back              5713\n",
       "scrollbar_R_forward           5406\n",
       "leave_left_aoi                4487\n",
       "tag_add_by_click              2733\n",
       "scrollbar_R_back              2639\n",
       "scrollbar_L_forward           1949\n",
       "ipynb_layout_(add_box)        1770\n",
       "scrollbar_L_back              1291\n",
       "tag_add_by_panel              1263\n",
       "scrollbar_X                   1110\n",
       "tab_exp                        998\n",
       "tab_other                      940\n",
       "copy_exp_code                  768\n",
       "click_on_code_by_1             666\n",
       "copy_left                      582\n",
       "copy_google                    452\n",
       "tag_remove_by_click            358\n",
       "left_button_copy               318\n",
       "copy_exp_output                153\n",
       "tag_remove_by_panel            128\n",
       "tab_pra                        123\n",
       "resize_browser                  38\n",
       "copy_pra_code                   32\n",
       "click_on_code_by_3               8\n",
       "Name: action, dtype: int64"
      ]
     },
     "execution_count": 30,
     "metadata": {},
     "output_type": "execute_result"
    }
   ],
   "source": [
    "df.action.value_counts()"
   ]
  },
  {
   "cell_type": "markdown",
   "id": "5eefbada",
   "metadata": {},
   "source": [
    "### Grouping users as per their performance"
   ]
  },
  {
   "cell_type": "code",
   "execution_count": 153,
   "id": "251d9ca3",
   "metadata": {},
   "outputs": [],
   "source": [
    "high_performers=[2, 3, 6, 8, 9, 11, 14, 42, 46, 50, 58]"
   ]
  },
  {
   "cell_type": "code",
   "execution_count": 154,
   "id": "8c28577e",
   "metadata": {},
   "outputs": [],
   "source": [
    "def categorize_user_level(value):\n",
    "    return 'High Performer' if value in high_performers else  'Low Performer'"
   ]
  },
  {
   "cell_type": "code",
   "execution_count": 155,
   "id": "3c70a952",
   "metadata": {},
   "outputs": [],
   "source": [
    "df_eda=df.copy()\n",
    "df_eda['level']=df_eda['user'].map(categorize_user_level)"
   ]
  },
  {
   "cell_type": "code",
   "execution_count": 157,
   "id": "3ec51a71",
   "metadata": {},
   "outputs": [
    {
     "data": {
      "image/png": "[encoded data removed]",
      "text/plain": [
       "<Figure size 1440x720 with 1 Axes>"
      ]
     },
     "metadata": {},
     "output_type": "display_data"
    }
   ],
   "source": [
    "fig, (ax1) = plt.subplots(ncols=1, figsize=(20, 10))\n",
    "\n",
    "df_eda.groupby('level').size().plot(kind='pie', autopct='%.2f', textprops={'fontsize': 10},\n",
    "                                  colors=['tomato', 'gold'], ax=ax1)\n",
    "ax1.set_ylabel('Distribution of Users Levels', size=18)\n",
    "plt.show()"
   ]
  },
  {
   "cell_type": "code",
   "execution_count": 162,
   "id": "ab98fc86",
   "metadata": {},
   "outputs": [
    {
     "name": "stdout",
     "output_type": "stream",
     "text": [
      "(19587, 5)   (58732, 5)\n"
     ]
    }
   ],
   "source": [
    "hp_df=df_eda[df_eda.level=='High Performer']\n",
    "lp_df=df_eda[df_eda.level=='Low Performer']\n",
    "print(hp_df.shape,' ', lp_df.shape)"
   ]
  },
  {
   "cell_type": "markdown",
   "id": "69979e01",
   "metadata": {},
   "source": [
    "### Generating corpus of `action` column to pass to the model"
   ]
  },
  {
   "cell_type": "code",
   "execution_count": 164,
   "id": "fd3d7e66",
   "metadata": {},
   "outputs": [],
   "source": [
    "corpus = [row.split(',') for row in df['action']]# Overall corpus of action\n",
    "corpus_hp = [row.split(',') for row in hp_df['action']]# High performing users action corpus to be tested seperately\n",
    "corpus_lp = [row.split(',') for row in df['action']]# Low performing users action corpus to be tested seperately"
   ]
  },
  {
   "cell_type": "code",
   "execution_count": 200,
   "id": "2956edc9",
   "metadata": {},
   "outputs": [],
   "source": [
    "def gensim_model(cor):\n",
    "    \n",
    "    model = Word2Vec(cor, min_count=1,vector_size=50,workers=3, window =3, sg = 1)\n",
    "    model.train(corpus,total_examples=len(cor),epochs=10)\n",
    "    return model"
   ]
  },
  {
   "cell_type": "markdown",
   "id": "40e98d00",
   "metadata": {},
   "source": [
    "### Testing out the closest actions to external search overally"
   ]
  },
  {
   "cell_type": "code",
   "execution_count": 201,
   "id": "bb6c149e",
   "metadata": {},
   "outputs": [
    {
     "data": {
      "text/plain": [
       "[('scrollbar_R_back', 0.17922037839889526),\n",
       " ('scrollbar_M_forward', 0.14386184513568878),\n",
       " ('tag_remove_by_click', 0.11257510632276535),\n",
       " ('tag_remove_by_panel', 0.10867806524038315),\n",
       " ('copy_exp_code', 0.0950523391366005),\n",
       " ('ipynb_layout_(add_box)', 0.09462708234786987),\n",
       " ('left_button_copy', 0.05041617155075073),\n",
       " ('scrollbar_M_back', 0.04007358103990555),\n",
       " ('scrollbar_R_forward', 0.0232339259237051),\n",
       " ('tag_add_by_click', 0.008223670534789562)]"
      ]
     },
     "execution_count": 201,
     "metadata": {},
     "output_type": "execute_result"
    }
   ],
   "source": [
    "overall_model=gensim_model(corpus)\n",
    "overall_model.wv.most_similar('tab_other')"
   ]
  },
  {
   "cell_type": "code",
   "execution_count": 203,
   "id": "6ea2febc",
   "metadata": {},
   "outputs": [
    {
     "name": "stdout",
     "output_type": "stream",
     "text": [
      "0.8207796365022659\n"
     ]
    }
   ],
   "source": [
    "distance=model.wv.distance('tab_other','scrollbar_R_back')\n",
    "print(distance)"
   ]
  },
  {
   "cell_type": "markdown",
   "id": "8f822363",
   "metadata": {},
   "source": [
    "### Cosine Similiarity"
   ]
  },
  {
   "cell_type": "code",
   "execution_count": 204,
   "id": "b6d05672",
   "metadata": {},
   "outputs": [],
   "source": [
    "def cosine_distance (model, word,target_list , num) :\n",
    "    cosine_dict ={}\n",
    "    word_list = []\n",
    "    a = model.wv.get_index(word)\n",
    "    for item in target_list :\n",
    "        if item != word :\n",
    "            b = model.wv.get_index(item)\n",
    "            cos_sim = dot(a, b)/(norm(a)*norm(b))\n",
    "            cosine_dict[item] = cos_sim\n",
    "    dist_sort=sorted(cosine_dict.items(), key=lambda dist: dist[1],reverse = True) ## in Descedning order \n",
    "    for item in dist_sort:\n",
    "        word_list.append((item[0], item[1]))\n",
    "    return word_list[0:num]"
   ]
  },
  {
   "cell_type": "code",
   "execution_count": 205,
   "id": "14657046",
   "metadata": {},
   "outputs": [
    {
     "name": "stderr",
     "output_type": "stream",
     "text": [
      "C:\\Users\\Najib\\AppData\\Local\\Temp\\ipykernel_42876\\4134364152.py:8: RuntimeWarning: invalid value encountered in true_divide\n",
      "  cos_sim = dot(a, b)/(norm(a)*norm(b))\n"
     ]
    },
    {
     "data": {
      "text/plain": [
       "[('copy_exp_code', 1.0),\n",
       " ('copy_exp_output', 1.0),\n",
       " ('copy_google', 1.0),\n",
       " ('copy_left', 1.0),\n",
       " ('ipynb_layout_(add_box)', 1.0),\n",
       " ('ipynb_layout_(write_code)', 1.0),\n",
       " ('leave_left_aoi', 1.0),\n",
       " ('leave_middle_aoi', nan),\n",
       " ('leave_right_aoi', 1.0),\n",
       " ('scrollbar_L_back', 1.0)]"
      ]
     },
     "execution_count": 205,
     "metadata": {},
     "output_type": "execute_result"
    }
   ],
   "source": [
    "action = list(df.action.unique())\n",
    "cosine_distance (model,'tab_other',action,10) "
   ]
  },
  {
   "cell_type": "markdown",
   "id": "72306bde",
   "metadata": {},
   "source": [
    "### Testing out the closest actions to external search separetly for different users"
   ]
  },
  {
   "cell_type": "markdown",
   "id": "2e30a5e3",
   "metadata": {},
   "source": [
    "#### High Performing Users"
   ]
  },
  {
   "cell_type": "code",
   "execution_count": 206,
   "id": "cb0d4f5c",
   "metadata": {
    "scrolled": true
   },
   "outputs": [
    {
     "data": {
      "text/plain": [
       "[('leave_right_aoi', 0.19010192155838013),\n",
       " ('scrollbar_X', 0.18857939541339874),\n",
       " ('copy_exp_code', 0.17440010607242584),\n",
       " ('resize_browser', 0.14239904284477234),\n",
       " ('ipynb_layout_(add_box)', 0.11519221216440201),\n",
       " ('scrollbar_R_forward', 0.10159838944673538),\n",
       " ('leave_middle_aoi', 0.08061254024505615),\n",
       " ('tag_remove_by_click', 0.07563064992427826),\n",
       " ('scrollbar_M_forward', 0.04067765921354294),\n",
       " ('click_on_code_by_3', 0.031875014305114746)]"
      ]
     },
     "execution_count": 206,
     "metadata": {},
     "output_type": "execute_result"
    }
   ],
   "source": [
    "hp_model=gensim_model(corpus_hp)\n",
    "hp_model.wv.most_similar('tab_other')"
   ]
  },
  {
   "cell_type": "code",
   "execution_count": 207,
   "id": "49157dfe",
   "metadata": {},
   "outputs": [
    {
     "name": "stdout",
     "output_type": "stream",
     "text": [
      "0.8098980933427811\n"
     ]
    }
   ],
   "source": [
    "distance=hp_model.wv.distance('tab_other','leave_right_aoi')\n",
    "print(distance)"
   ]
  },
  {
   "cell_type": "code",
   "execution_count": 208,
   "id": "e1eca657",
   "metadata": {},
   "outputs": [
    {
     "name": "stderr",
     "output_type": "stream",
     "text": [
      "C:\\Users\\Najib\\AppData\\Local\\Temp\\ipykernel_42876\\4134364152.py:8: RuntimeWarning: invalid value encountered in true_divide\n",
      "  cos_sim = dot(a, b)/(norm(a)*norm(b))\n"
     ]
    },
    {
     "data": {
      "text/plain": [
       "[('click_on_code_by_1', 1.0),\n",
       " ('copy_exp_code', 1.0),\n",
       " ('copy_left', 1.0),\n",
       " ('ipynb_layout_(add_box)', 1.0),\n",
       " ('ipynb_layout_(write_code)', 1.0),\n",
       " ('leave_left_aoi', 1.0),\n",
       " ('leave_middle_aoi', 1.0),\n",
       " ('leave_right_aoi', 1.0),\n",
       " ('left_button_copy', 1.0),\n",
       " ('scrollbar_L_back', 1.0)]"
      ]
     },
     "execution_count": 208,
     "metadata": {},
     "output_type": "execute_result"
    }
   ],
   "source": [
    "action = list(hp_df.action.unique())\n",
    "cosine_distance (hp_model,'tab_other',action,10) "
   ]
  },
  {
   "cell_type": "code",
   "execution_count": 209,
   "id": "b19daf61",
   "metadata": {},
   "outputs": [
    {
     "data": {
      "text/plain": [
       "[('scrollbar_R_back', 0.17922037839889526),\n",
       " ('scrollbar_M_forward', 0.14386184513568878),\n",
       " ('tag_remove_by_click', 0.11257510632276535),\n",
       " ('tag_remove_by_panel', 0.10867806524038315),\n",
       " ('copy_exp_code', 0.0950523391366005),\n",
       " ('ipynb_layout_(add_box)', 0.09462708234786987),\n",
       " ('left_button_copy', 0.05041617155075073),\n",
       " ('scrollbar_M_back', 0.04007358103990555),\n",
       " ('scrollbar_R_forward', 0.0232339259237051),\n",
       " ('tag_add_by_click', 0.008223670534789562)]"
      ]
     },
     "execution_count": 209,
     "metadata": {},
     "output_type": "execute_result"
    }
   ],
   "source": [
    "lp_model=gensim_model(corpus_lp)\n",
    "lp_model.wv.most_similar('tab_other')"
   ]
  },
  {
   "cell_type": "code",
   "execution_count": 210,
   "id": "9b22988d",
   "metadata": {},
   "outputs": [
    {
     "name": "stdout",
     "output_type": "stream",
     "text": [
      "0.8207796365022659\n"
     ]
    }
   ],
   "source": [
    "distance=lp_model.wv.distance('tab_other','scrollbar_R_back')\n",
    "print(distance)"
   ]
  },
  {
   "cell_type": "code",
   "execution_count": 199,
   "id": "f89c5380",
   "metadata": {},
   "outputs": [
    {
     "name": "stderr",
     "output_type": "stream",
     "text": [
      "C:\\Users\\Najib\\AppData\\Local\\Temp\\ipykernel_42876\\4134364152.py:8: RuntimeWarning: invalid value encountered in true_divide\n",
      "  cos_sim = dot(a, b)/(norm(a)*norm(b))\n"
     ]
    },
    {
     "data": {
      "text/plain": [
       "[('copy_exp_code', 1.0),\n",
       " ('copy_exp_output', 1.0),\n",
       " ('copy_google', 1.0),\n",
       " ('copy_left', 1.0),\n",
       " ('ipynb_layout_(add_box)', 1.0),\n",
       " ('ipynb_layout_(write_code)', 1.0),\n",
       " ('leave_left_aoi', 1.0),\n",
       " ('leave_middle_aoi', nan),\n",
       " ('leave_right_aoi', 1.0),\n",
       " ('scrollbar_L_back', 1.0)]"
      ]
     },
     "execution_count": 199,
     "metadata": {},
     "output_type": "execute_result"
    }
   ],
   "source": [
    "action = list(lp_df.action.unique())\n",
    "cosine_distance (lp_model,'tab_other',action,10) "
   ]
  }
 ],
 "metadata": {
  "kernelspec": {
   "display_name": "Python 3 (ipykernel)",
   "language": "python",
   "name": "python3"
  },
  "language_info": {
   "codemirror_mode": {
    "name": "ipython",
    "version": 3
   },
   "file_extension": ".py",
   "mimetype": "text/x-python",
   "name": "python",
   "nbconvert_exporter": "python",
   "pygments_lexer": "ipython3",
   "version": "3.9.12"
  }
 },
 "nbformat": 4,
 "nbformat_minor": 5
}
